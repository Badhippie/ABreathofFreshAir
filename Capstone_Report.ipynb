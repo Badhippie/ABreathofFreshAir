{
  "nbformat": 4,
  "nbformat_minor": 0,
  "metadata": {
    "colab": {
      "name": "Capstone Report.ipynb",
      "provenance": [],
      "authorship_tag": "ABX9TyOF71TiEW5XWlRgD6A06CDi",
      "include_colab_link": true
    },
    "kernelspec": {
      "name": "python3",
      "display_name": "Python 3"
    },
    "language_info": {
      "name": "python"
    }
  },
  "cells": [
    {
      "cell_type": "markdown",
      "metadata": {
        "id": "view-in-github",
        "colab_type": "text"
      },
      "source": [
        "<a href=\"https://colab.research.google.com/github/Badhippie/ABreathofFreshAir/blob/main/Capstone_Report.ipynb\" target=\"_parent\"><img src=\"https://colab.research.google.com/assets/colab-badge.svg\" alt=\"Open In Colab\"/></a>"
      ]
    },
    {
      "cell_type": "markdown",
      "metadata": {
        "id": "bROYDg5dAdpQ"
      },
      "source": [
        "# Introduction"
      ]
    },
    {
      "cell_type": "markdown",
      "metadata": {
        "id": "X2pNE-LoAgKA"
      },
      "source": [
        "##Problem Description\n",
        "\n",
        "\n",
        "---\n",
        "\n",
        "\n",
        "##### Let's say we want to open a coffee shop in the city of Denver, CO. How would we go about this situation? \n",
        "\n",
        "\n",
        "---\n",
        "\n",
        "\n",
        "\n",
        "##### Well, there is some information required for us to analyzie this situation properly:\n",
        "\n",
        "\n",
        "\n",
        "---\n",
        "\n",
        "\n",
        "\n",
        "1.   How closely positioned are the shops?\n",
        "2.   Customer count per day, ratings, per cap (if available), any information useful for identifying the different shops\n",
        "3.   Other businesses visited by those customers in the surrounding area (where elese our customers would go in the area)\n",
        "4. Major places of employment in the area (metropolitan or urban)\n",
        "5. Convenience in distance from surrounding shops (how far are we from the nearest shop)\n",
        "6. How can the above information be used to leverage outreach? \n",
        "\n",
        "\n",
        "\n",
        "\n",
        "---\n",
        "\n",
        "\n",
        "\n",
        "---\n",
        "\n",
        "\n"
      ]
    },
    {
      "cell_type": "markdown",
      "metadata": {
        "id": "UVBiqIh5Dwlk"
      },
      "source": [
        "##### We can answer these questions with the following:\n",
        "\n",
        "\n",
        "\n",
        "---\n",
        "\n",
        "\n",
        "\n",
        "1.   Data will be collected from Foursquare API to assess locations and clustering of various shops in the metropolitan area\n",
        "2.   Specified features from 'details' and 'stats' will be used to analyze relevant data for our questions\n",
        "3.  'Ratings' will be leveraged with ratings from: '[https://colab.research.google.com/drive/1oVBJbQq5n_gBF9TLovJCSV6Kh5kBoZ_Z#scrollTo=UVBiqIh5Dwlk&line=7&uniqifier=1]' to find the highest rated coffee shops and their locations and traffic\n",
        "4.   We will look at other relevant information about the reviewers to determine other businesses in the area that would enhance our performance\n",
        "5. We will ask questions about future progress of the business\n",
        "\n",
        "\n",
        "\n",
        "---\n",
        "\n",
        "\n",
        "\n",
        "---\n",
        "\n",
        "\n",
        "\n"
      ]
    },
    {
      "cell_type": "code",
      "metadata": {
        "id": "yf01dBuPDx7g"
      },
      "source": [
        ""
      ],
      "execution_count": null,
      "outputs": []
    }
  ]
}